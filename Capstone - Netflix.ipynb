{
 "cells": [
  {
   "cell_type": "markdown",
   "id": "5d3679fa",
   "metadata": {},
   "source": [
    "## Netflix Capstone\n",
    "\n",
    "#### Objective\n",
    "#### Create Model that finds the best suited Movie for one user in every genre.\n",
    "#### Find what Movies have received the best and worst ratings based on User Rating."
   ]
  },
  {
   "cell_type": "code",
   "execution_count": 1,
   "id": "2ca11d76",
   "metadata": {},
   "outputs": [],
   "source": [
    "#Importing All necessary modules\n",
    "\n",
    "import pandas as pd\n",
    "import numpy as np\n",
    "import matplotlib.pyplot as plt\n",
    "import seaborn as sns\n",
    "import warnings\n",
    "warnings.filterwarnings('ignore')"
   ]
  },
  {
   "cell_type": "code",
   "execution_count": 2,
   "id": "9c2693c6",
   "metadata": {},
   "outputs": [],
   "source": [
    "#Loading Dataset\n",
    "movie_df = pd.read_csv(r\"D:\\INTELLIPAAT\\Capstone Proj\\Netflix\\NETFLIX_YOGANSHU\\Copy of combined_data_1.txt\\combined_data_1.txt\",header=None,names=[\"Cust_Id\",\"Rating\"],usecols=[0,1])"
   ]
  },
  {
   "cell_type": "markdown",
   "id": "e82ca136",
   "metadata": {},
   "source": [
    "## Exploratory Data Analysis"
   ]
  },
  {
   "cell_type": "code",
   "execution_count": 3,
   "id": "d7cd79e2",
   "metadata": {},
   "outputs": [
    {
     "data": {
      "text/html": [
       "<div>\n",
       "<style scoped>\n",
       "    .dataframe tbody tr th:only-of-type {\n",
       "        vertical-align: middle;\n",
       "    }\n",
       "\n",
       "    .dataframe tbody tr th {\n",
       "        vertical-align: top;\n",
       "    }\n",
       "\n",
       "    .dataframe thead th {\n",
       "        text-align: right;\n",
       "    }\n",
       "</style>\n",
       "<table border=\"1\" class=\"dataframe\">\n",
       "  <thead>\n",
       "    <tr style=\"text-align: right;\">\n",
       "      <th></th>\n",
       "      <th>Cust_Id</th>\n",
       "      <th>Rating</th>\n",
       "    </tr>\n",
       "  </thead>\n",
       "  <tbody>\n",
       "    <tr>\n",
       "      <th>0</th>\n",
       "      <td>1:</td>\n",
       "      <td>NaN</td>\n",
       "    </tr>\n",
       "    <tr>\n",
       "      <th>1</th>\n",
       "      <td>1488844</td>\n",
       "      <td>3.0</td>\n",
       "    </tr>\n",
       "    <tr>\n",
       "      <th>2</th>\n",
       "      <td>822109</td>\n",
       "      <td>5.0</td>\n",
       "    </tr>\n",
       "    <tr>\n",
       "      <th>3</th>\n",
       "      <td>885013</td>\n",
       "      <td>4.0</td>\n",
       "    </tr>\n",
       "    <tr>\n",
       "      <th>4</th>\n",
       "      <td>30878</td>\n",
       "      <td>4.0</td>\n",
       "    </tr>\n",
       "  </tbody>\n",
       "</table>\n",
       "</div>"
      ],
      "text/plain": [
       "   Cust_Id  Rating\n",
       "0       1:     NaN\n",
       "1  1488844     3.0\n",
       "2   822109     5.0\n",
       "3   885013     4.0\n",
       "4    30878     4.0"
      ]
     },
     "execution_count": 3,
     "metadata": {},
     "output_type": "execute_result"
    }
   ],
   "source": [
    "movie_df.head()"
   ]
  },
  {
   "cell_type": "code",
   "execution_count": 4,
   "id": "8cd7016f",
   "metadata": {},
   "outputs": [
    {
     "data": {
      "text/plain": [
       "Cust_Id       0\n",
       "Rating     4499\n",
       "dtype: int64"
      ]
     },
     "execution_count": 4,
     "metadata": {},
     "output_type": "execute_result"
    }
   ],
   "source": [
    "#Checking for Null values\n",
    "movie_df.isnull().sum()"
   ]
  },
  {
   "cell_type": "code",
   "execution_count": 5,
   "id": "353546b0",
   "metadata": {},
   "outputs": [
    {
     "data": {
      "text/plain": [
       "22234208"
      ]
     },
     "execution_count": 5,
     "metadata": {},
     "output_type": "execute_result"
    }
   ],
   "source": [
    "#Checking for duplicates\n",
    "movie_df.duplicated().sum()\n",
    "#Duplicates are allowed since this is a rating column and we can have multiple same ratings for same user"
   ]
  },
  {
   "cell_type": "code",
   "execution_count": 6,
   "id": "74484ba9",
   "metadata": {},
   "outputs": [
    {
     "name": "stdout",
     "output_type": "stream",
     "text": [
      "Total Number of Movies :  4499\n"
     ]
    }
   ],
   "source": [
    "#Getting number of movies using Nan values in Rating column\n",
    "print('Total Number of Movies : ',movie_df['Rating'].isnull().sum())"
   ]
  },
  {
   "cell_type": "code",
   "execution_count": 7,
   "id": "56263838",
   "metadata": {},
   "outputs": [
    {
     "name": "stdout",
     "output_type": "stream",
     "text": [
      "Total Users :  470758\n"
     ]
    }
   ],
   "source": [
    "#Getting number of Users using Nan values and Unique count in Cust id column\n",
    "unique_cust = movie_df['Cust_Id'].nunique()\n",
    "print('Total Users : ', unique_cust - 4499)"
   ]
  },
  {
   "cell_type": "markdown",
   "id": "85af2375",
   "metadata": {},
   "source": [
    "#### Generating Movie ID Column based on Nan values"
   ]
  },
  {
   "cell_type": "code",
   "execution_count": 8,
   "id": "01d73f76",
   "metadata": {},
   "outputs": [
    {
     "data": {
      "text/html": [
       "<div>\n",
       "<style scoped>\n",
       "    .dataframe tbody tr th:only-of-type {\n",
       "        vertical-align: middle;\n",
       "    }\n",
       "\n",
       "    .dataframe tbody tr th {\n",
       "        vertical-align: top;\n",
       "    }\n",
       "\n",
       "    .dataframe thead th {\n",
       "        text-align: right;\n",
       "    }\n",
       "</style>\n",
       "<table border=\"1\" class=\"dataframe\">\n",
       "  <thead>\n",
       "    <tr style=\"text-align: right;\">\n",
       "      <th></th>\n",
       "      <th>Cust_Id</th>\n",
       "      <th>Rating</th>\n",
       "      <th>Movie_Id</th>\n",
       "    </tr>\n",
       "  </thead>\n",
       "  <tbody>\n",
       "    <tr>\n",
       "      <th>0</th>\n",
       "      <td>1:</td>\n",
       "      <td>NaN</td>\n",
       "      <td>1</td>\n",
       "    </tr>\n",
       "    <tr>\n",
       "      <th>1</th>\n",
       "      <td>1488844</td>\n",
       "      <td>3.0</td>\n",
       "      <td>1</td>\n",
       "    </tr>\n",
       "    <tr>\n",
       "      <th>2</th>\n",
       "      <td>822109</td>\n",
       "      <td>5.0</td>\n",
       "      <td>1</td>\n",
       "    </tr>\n",
       "    <tr>\n",
       "      <th>3</th>\n",
       "      <td>885013</td>\n",
       "      <td>4.0</td>\n",
       "      <td>1</td>\n",
       "    </tr>\n",
       "    <tr>\n",
       "      <th>4</th>\n",
       "      <td>30878</td>\n",
       "      <td>4.0</td>\n",
       "      <td>1</td>\n",
       "    </tr>\n",
       "    <tr>\n",
       "      <th>...</th>\n",
       "      <td>...</td>\n",
       "      <td>...</td>\n",
       "      <td>...</td>\n",
       "    </tr>\n",
       "    <tr>\n",
       "      <th>24058258</th>\n",
       "      <td>2591364</td>\n",
       "      <td>2.0</td>\n",
       "      <td>4499</td>\n",
       "    </tr>\n",
       "    <tr>\n",
       "      <th>24058259</th>\n",
       "      <td>1791000</td>\n",
       "      <td>2.0</td>\n",
       "      <td>4499</td>\n",
       "    </tr>\n",
       "    <tr>\n",
       "      <th>24058260</th>\n",
       "      <td>512536</td>\n",
       "      <td>5.0</td>\n",
       "      <td>4499</td>\n",
       "    </tr>\n",
       "    <tr>\n",
       "      <th>24058261</th>\n",
       "      <td>988963</td>\n",
       "      <td>3.0</td>\n",
       "      <td>4499</td>\n",
       "    </tr>\n",
       "    <tr>\n",
       "      <th>24058262</th>\n",
       "      <td>1704416</td>\n",
       "      <td>3.0</td>\n",
       "      <td>4499</td>\n",
       "    </tr>\n",
       "  </tbody>\n",
       "</table>\n",
       "<p>24058263 rows × 3 columns</p>\n",
       "</div>"
      ],
      "text/plain": [
       "          Cust_Id  Rating  Movie_Id\n",
       "0              1:     NaN         1\n",
       "1         1488844     3.0         1\n",
       "2          822109     5.0         1\n",
       "3          885013     4.0         1\n",
       "4           30878     4.0         1\n",
       "...           ...     ...       ...\n",
       "24058258  2591364     2.0      4499\n",
       "24058259  1791000     2.0      4499\n",
       "24058260   512536     5.0      4499\n",
       "24058261   988963     3.0      4499\n",
       "24058262  1704416     3.0      4499\n",
       "\n",
       "[24058263 rows x 3 columns]"
      ]
     },
     "execution_count": 8,
     "metadata": {},
     "output_type": "execute_result"
    }
   ],
   "source": [
    "movie_id=None\n",
    "movie_np=[]\n",
    "\n",
    "#iterate over the dataset in Cust_Id\n",
    "\n",
    "for cust_id in movie_df[\"Cust_Id\"]:\n",
    "    if \":\" in cust_id:\n",
    "        # update the current movie_id\n",
    "        movie_id=int(cust_id.replace(\":\",\"\"))\n",
    "    movie_np.append(movie_id)\n",
    "    \n",
    "movie_df['Movie_Id'] = movie_np\n",
    "movie_df"
   ]
  },
  {
   "cell_type": "code",
   "execution_count": null,
   "id": "b8e9a194",
   "metadata": {},
   "outputs": [],
   "source": []
  },
  {
   "cell_type": "code",
   "execution_count": 9,
   "id": "c8c98abc",
   "metadata": {},
   "outputs": [
    {
     "data": {
      "text/html": [
       "<div>\n",
       "<style scoped>\n",
       "    .dataframe tbody tr th:only-of-type {\n",
       "        vertical-align: middle;\n",
       "    }\n",
       "\n",
       "    .dataframe tbody tr th {\n",
       "        vertical-align: top;\n",
       "    }\n",
       "\n",
       "    .dataframe thead th {\n",
       "        text-align: right;\n",
       "    }\n",
       "</style>\n",
       "<table border=\"1\" class=\"dataframe\">\n",
       "  <thead>\n",
       "    <tr style=\"text-align: right;\">\n",
       "      <th></th>\n",
       "      <th>Cust_Id</th>\n",
       "      <th>Rating</th>\n",
       "      <th>Movie_Id</th>\n",
       "    </tr>\n",
       "  </thead>\n",
       "  <tbody>\n",
       "    <tr>\n",
       "      <th>1</th>\n",
       "      <td>1488844</td>\n",
       "      <td>3.0</td>\n",
       "      <td>1</td>\n",
       "    </tr>\n",
       "    <tr>\n",
       "      <th>2</th>\n",
       "      <td>822109</td>\n",
       "      <td>5.0</td>\n",
       "      <td>1</td>\n",
       "    </tr>\n",
       "    <tr>\n",
       "      <th>3</th>\n",
       "      <td>885013</td>\n",
       "      <td>4.0</td>\n",
       "      <td>1</td>\n",
       "    </tr>\n",
       "    <tr>\n",
       "      <th>4</th>\n",
       "      <td>30878</td>\n",
       "      <td>4.0</td>\n",
       "      <td>1</td>\n",
       "    </tr>\n",
       "    <tr>\n",
       "      <th>5</th>\n",
       "      <td>823519</td>\n",
       "      <td>3.0</td>\n",
       "      <td>1</td>\n",
       "    </tr>\n",
       "  </tbody>\n",
       "</table>\n",
       "</div>"
      ],
      "text/plain": [
       "   Cust_Id  Rating  Movie_Id\n",
       "1  1488844     3.0         1\n",
       "2   822109     5.0         1\n",
       "3   885013     4.0         1\n",
       "4    30878     4.0         1\n",
       "5   823519     3.0         1"
      ]
     },
     "execution_count": 9,
     "metadata": {},
     "output_type": "execute_result"
    }
   ],
   "source": [
    "#Removing rows with NAN values\n",
    "\n",
    "movie_df = movie_df[movie_df['Rating'].notna()]\n",
    "movie_df.head()"
   ]
  },
  {
   "cell_type": "code",
   "execution_count": 10,
   "id": "738623aa",
   "metadata": {},
   "outputs": [
    {
     "name": "stdout",
     "output_type": "stream",
     "text": [
      "<class 'pandas.core.frame.DataFrame'>\n",
      "Index: 24053764 entries, 1 to 24058262\n",
      "Data columns (total 3 columns):\n",
      " #   Column    Dtype  \n",
      "---  ------    -----  \n",
      " 0   Cust_Id   object \n",
      " 1   Rating    float64\n",
      " 2   Movie_Id  int64  \n",
      "dtypes: float64(1), int64(1), object(1)\n",
      "memory usage: 734.1+ MB\n"
     ]
    }
   ],
   "source": [
    "#Checking for correct datatype\n",
    "\n",
    "movie_df.info()"
   ]
  },
  {
   "cell_type": "code",
   "execution_count": 11,
   "id": "ee83c10e",
   "metadata": {},
   "outputs": [],
   "source": [
    "#Converting Cust_id column to integer\n",
    "\n",
    "movie_df['Cust_Id'] = movie_df['Cust_Id'].astype(int)"
   ]
  },
  {
   "cell_type": "code",
   "execution_count": 12,
   "id": "515e1297",
   "metadata": {},
   "outputs": [
    {
     "name": "stdout",
     "output_type": "stream",
     "text": [
      "<class 'pandas.core.frame.DataFrame'>\n",
      "Index: 24053764 entries, 1 to 24058262\n",
      "Data columns (total 3 columns):\n",
      " #   Column    Dtype  \n",
      "---  ------    -----  \n",
      " 0   Cust_Id   int32  \n",
      " 1   Rating    float64\n",
      " 2   Movie_Id  int64  \n",
      "dtypes: float64(1), int32(1), int64(1)\n",
      "memory usage: 642.3 MB\n"
     ]
    }
   ],
   "source": [
    "movie_df.info()"
   ]
  },
  {
   "cell_type": "markdown",
   "id": "7988fc47",
   "metadata": {},
   "source": [
    "#### pre- filtering\n",
    "#### now we will remove all the users that have rated less number of movies\n",
    "#### also all those movies that has been rated less in number"
   ]
  },
  {
   "cell_type": "code",
   "execution_count": 13,
   "id": "96459b0e",
   "metadata": {},
   "outputs": [
    {
     "data": {
      "text/html": [
       "<div>\n",
       "<style scoped>\n",
       "    .dataframe tbody tr th:only-of-type {\n",
       "        vertical-align: middle;\n",
       "    }\n",
       "\n",
       "    .dataframe tbody tr th {\n",
       "        vertical-align: top;\n",
       "    }\n",
       "\n",
       "    .dataframe thead th {\n",
       "        text-align: right;\n",
       "    }\n",
       "</style>\n",
       "<table border=\"1\" class=\"dataframe\">\n",
       "  <thead>\n",
       "    <tr style=\"text-align: right;\">\n",
       "      <th></th>\n",
       "      <th>count</th>\n",
       "    </tr>\n",
       "    <tr>\n",
       "      <th>Movie_Id</th>\n",
       "      <th></th>\n",
       "    </tr>\n",
       "  </thead>\n",
       "  <tbody>\n",
       "    <tr>\n",
       "      <th>1</th>\n",
       "      <td>547</td>\n",
       "    </tr>\n",
       "    <tr>\n",
       "      <th>2</th>\n",
       "      <td>145</td>\n",
       "    </tr>\n",
       "    <tr>\n",
       "      <th>3</th>\n",
       "      <td>2012</td>\n",
       "    </tr>\n",
       "    <tr>\n",
       "      <th>4</th>\n",
       "      <td>142</td>\n",
       "    </tr>\n",
       "    <tr>\n",
       "      <th>5</th>\n",
       "      <td>1140</td>\n",
       "    </tr>\n",
       "    <tr>\n",
       "      <th>...</th>\n",
       "      <td>...</td>\n",
       "    </tr>\n",
       "    <tr>\n",
       "      <th>4495</th>\n",
       "      <td>614</td>\n",
       "    </tr>\n",
       "    <tr>\n",
       "      <th>4496</th>\n",
       "      <td>9519</td>\n",
       "    </tr>\n",
       "    <tr>\n",
       "      <th>4497</th>\n",
       "      <td>714</td>\n",
       "    </tr>\n",
       "    <tr>\n",
       "      <th>4498</th>\n",
       "      <td>269</td>\n",
       "    </tr>\n",
       "    <tr>\n",
       "      <th>4499</th>\n",
       "      <td>428</td>\n",
       "    </tr>\n",
       "  </tbody>\n",
       "</table>\n",
       "<p>4499 rows × 1 columns</p>\n",
       "</div>"
      ],
      "text/plain": [
       "          count\n",
       "Movie_Id       \n",
       "1           547\n",
       "2           145\n",
       "3          2012\n",
       "4           142\n",
       "5          1140\n",
       "...         ...\n",
       "4495        614\n",
       "4496       9519\n",
       "4497        714\n",
       "4498        269\n",
       "4499        428\n",
       "\n",
       "[4499 rows x 1 columns]"
      ]
     },
     "execution_count": 13,
     "metadata": {},
     "output_type": "execute_result"
    }
   ],
   "source": [
    "movie_summary = movie_df.groupby('Movie_Id')['Rating'].agg(['count'])\n",
    "movie_summary"
   ]
  },
  {
   "cell_type": "code",
   "execution_count": 14,
   "id": "f3925712",
   "metadata": {},
   "outputs": [
    {
     "data": {
      "text/plain": [
       "908.0"
      ]
     },
     "execution_count": 14,
     "metadata": {},
     "output_type": "execute_result"
    }
   ],
   "source": [
    "# now we will create a benchmark\n",
    "\n",
    "movie_benchmark=round(movie_summary['count'].quantile(0.6),0)\n",
    "movie_benchmark"
   ]
  },
  {
   "cell_type": "code",
   "execution_count": 15,
   "id": "b395d321",
   "metadata": {},
   "outputs": [
    {
     "data": {
      "text/plain": [
       "Index([   1,    2,    4,    7,    9,   10,   11,   12,   13,   14,\n",
       "       ...\n",
       "       4480, 4481, 4486, 4487, 4491, 4494, 4495, 4497, 4498, 4499],\n",
       "      dtype='int64', name='Movie_Id', length=2699)"
      ]
     },
     "execution_count": 15,
     "metadata": {},
     "output_type": "execute_result"
    }
   ],
   "source": [
    "#Getting list of index for rows less than benchmark\n",
    "\n",
    "drop_movie_list=movie_summary[movie_summary[\"count\"]<movie_benchmark].index\n",
    "drop_movie_list"
   ]
  },
  {
   "cell_type": "code",
   "execution_count": 16,
   "id": "d2fb3dd2",
   "metadata": {},
   "outputs": [
    {
     "data": {
      "text/html": [
       "<div>\n",
       "<style scoped>\n",
       "    .dataframe tbody tr th:only-of-type {\n",
       "        vertical-align: middle;\n",
       "    }\n",
       "\n",
       "    .dataframe tbody tr th {\n",
       "        vertical-align: top;\n",
       "    }\n",
       "\n",
       "    .dataframe thead th {\n",
       "        text-align: right;\n",
       "    }\n",
       "</style>\n",
       "<table border=\"1\" class=\"dataframe\">\n",
       "  <thead>\n",
       "    <tr style=\"text-align: right;\">\n",
       "      <th></th>\n",
       "      <th>count</th>\n",
       "    </tr>\n",
       "    <tr>\n",
       "      <th>Cust_Id</th>\n",
       "      <th></th>\n",
       "    </tr>\n",
       "  </thead>\n",
       "  <tbody>\n",
       "    <tr>\n",
       "      <th>6</th>\n",
       "      <td>153</td>\n",
       "    </tr>\n",
       "    <tr>\n",
       "      <th>7</th>\n",
       "      <td>195</td>\n",
       "    </tr>\n",
       "    <tr>\n",
       "      <th>8</th>\n",
       "      <td>21</td>\n",
       "    </tr>\n",
       "    <tr>\n",
       "      <th>10</th>\n",
       "      <td>49</td>\n",
       "    </tr>\n",
       "    <tr>\n",
       "      <th>25</th>\n",
       "      <td>4</td>\n",
       "    </tr>\n",
       "    <tr>\n",
       "      <th>...</th>\n",
       "      <td>...</td>\n",
       "    </tr>\n",
       "    <tr>\n",
       "      <th>2649404</th>\n",
       "      <td>12</td>\n",
       "    </tr>\n",
       "    <tr>\n",
       "      <th>2649409</th>\n",
       "      <td>10</td>\n",
       "    </tr>\n",
       "    <tr>\n",
       "      <th>2649421</th>\n",
       "      <td>3</td>\n",
       "    </tr>\n",
       "    <tr>\n",
       "      <th>2649426</th>\n",
       "      <td>74</td>\n",
       "    </tr>\n",
       "    <tr>\n",
       "      <th>2649429</th>\n",
       "      <td>62</td>\n",
       "    </tr>\n",
       "  </tbody>\n",
       "</table>\n",
       "<p>470758 rows × 1 columns</p>\n",
       "</div>"
      ],
      "text/plain": [
       "         count\n",
       "Cust_Id       \n",
       "6          153\n",
       "7          195\n",
       "8           21\n",
       "10          49\n",
       "25           4\n",
       "...        ...\n",
       "2649404     12\n",
       "2649409     10\n",
       "2649421      3\n",
       "2649426     74\n",
       "2649429     62\n",
       "\n",
       "[470758 rows x 1 columns]"
      ]
     },
     "execution_count": 16,
     "metadata": {},
     "output_type": "execute_result"
    }
   ],
   "source": [
    "#now we will remove all the users that has less rating counts\n",
    "\n",
    "movie_cust_summary=movie_df.groupby('Cust_Id')['Rating'].agg([\"count\"])\n",
    "movie_cust_summary"
   ]
  },
  {
   "cell_type": "code",
   "execution_count": 17,
   "id": "0666dad2",
   "metadata": {},
   "outputs": [
    {
     "data": {
      "text/plain": [
       "36.0"
      ]
     },
     "execution_count": 17,
     "metadata": {},
     "output_type": "execute_result"
    }
   ],
   "source": [
    "# now we will create a benchmark\n",
    "\n",
    "cust_benchmark=round(movie_cust_summary['count'].quantile(0.6),0)\n",
    "cust_benchmark"
   ]
  },
  {
   "cell_type": "code",
   "execution_count": 18,
   "id": "7070fe6a",
   "metadata": {},
   "outputs": [
    {
     "data": {
      "text/plain": [
       "Index([      8,      25,      33,      83,      94,     126,     130,     133,\n",
       "           142,     149,\n",
       "       ...\n",
       "       2649337, 2649343, 2649351, 2649376, 2649379, 2649384, 2649401, 2649404,\n",
       "       2649409, 2649421],\n",
       "      dtype='int32', name='Cust_Id', length=282042)"
      ]
     },
     "execution_count": 18,
     "metadata": {},
     "output_type": "execute_result"
    }
   ],
   "source": [
    "#Getting list of index for rows less than benchmark\n",
    "drop_cust_list = movie_cust_summary[movie_cust_summary['count']<36].index\n",
    "drop_cust_list"
   ]
  },
  {
   "cell_type": "code",
   "execution_count": 19,
   "id": "9944be59",
   "metadata": {},
   "outputs": [
    {
     "data": {
      "text/html": [
       "<div>\n",
       "<style scoped>\n",
       "    .dataframe tbody tr th:only-of-type {\n",
       "        vertical-align: middle;\n",
       "    }\n",
       "\n",
       "    .dataframe tbody tr th {\n",
       "        vertical-align: top;\n",
       "    }\n",
       "\n",
       "    .dataframe thead th {\n",
       "        text-align: right;\n",
       "    }\n",
       "</style>\n",
       "<table border=\"1\" class=\"dataframe\">\n",
       "  <thead>\n",
       "    <tr style=\"text-align: right;\">\n",
       "      <th></th>\n",
       "      <th>Cust_Id</th>\n",
       "      <th>Rating</th>\n",
       "      <th>Movie_Id</th>\n",
       "    </tr>\n",
       "  </thead>\n",
       "  <tbody>\n",
       "    <tr>\n",
       "      <th>696</th>\n",
       "      <td>712664</td>\n",
       "      <td>5.0</td>\n",
       "      <td>3</td>\n",
       "    </tr>\n",
       "    <tr>\n",
       "      <th>697</th>\n",
       "      <td>1331154</td>\n",
       "      <td>4.0</td>\n",
       "      <td>3</td>\n",
       "    </tr>\n",
       "    <tr>\n",
       "      <th>698</th>\n",
       "      <td>2632461</td>\n",
       "      <td>3.0</td>\n",
       "      <td>3</td>\n",
       "    </tr>\n",
       "    <tr>\n",
       "      <th>699</th>\n",
       "      <td>44937</td>\n",
       "      <td>5.0</td>\n",
       "      <td>3</td>\n",
       "    </tr>\n",
       "    <tr>\n",
       "      <th>700</th>\n",
       "      <td>656399</td>\n",
       "      <td>4.0</td>\n",
       "      <td>3</td>\n",
       "    </tr>\n",
       "    <tr>\n",
       "      <th>...</th>\n",
       "      <td>...</td>\n",
       "      <td>...</td>\n",
       "      <td>...</td>\n",
       "    </tr>\n",
       "    <tr>\n",
       "      <th>24056842</th>\n",
       "      <td>1055714</td>\n",
       "      <td>5.0</td>\n",
       "      <td>4496</td>\n",
       "    </tr>\n",
       "    <tr>\n",
       "      <th>24056843</th>\n",
       "      <td>2643029</td>\n",
       "      <td>4.0</td>\n",
       "      <td>4496</td>\n",
       "    </tr>\n",
       "    <tr>\n",
       "      <th>24056844</th>\n",
       "      <td>267802</td>\n",
       "      <td>4.0</td>\n",
       "      <td>4496</td>\n",
       "    </tr>\n",
       "    <tr>\n",
       "      <th>24056845</th>\n",
       "      <td>1559566</td>\n",
       "      <td>3.0</td>\n",
       "      <td>4496</td>\n",
       "    </tr>\n",
       "    <tr>\n",
       "      <th>24056846</th>\n",
       "      <td>293198</td>\n",
       "      <td>3.0</td>\n",
       "      <td>4496</td>\n",
       "    </tr>\n",
       "  </tbody>\n",
       "</table>\n",
       "<p>19695836 rows × 3 columns</p>\n",
       "</div>"
      ],
      "text/plain": [
       "          Cust_Id  Rating  Movie_Id\n",
       "696        712664     5.0         3\n",
       "697       1331154     4.0         3\n",
       "698       2632461     3.0         3\n",
       "699         44937     5.0         3\n",
       "700        656399     4.0         3\n",
       "...           ...     ...       ...\n",
       "24056842  1055714     5.0      4496\n",
       "24056843  2643029     4.0      4496\n",
       "24056844   267802     4.0      4496\n",
       "24056845  1559566     3.0      4496\n",
       "24056846   293198     3.0      4496\n",
       "\n",
       "[19695836 rows x 3 columns]"
      ]
     },
     "execution_count": 19,
     "metadata": {},
     "output_type": "execute_result"
    }
   ],
   "source": [
    "#Dropping all the rows with index in drop_cust_list and drop_movie_list\n",
    "\n",
    "movie_df=movie_df[~movie_df['Movie_Id'].isin(drop_movie_list)]\n",
    "movie_df=movie_df[~movie_df['Cust_Id'].isin(drop_cust_list)]\n",
    "movie_df"
   ]
  },
  {
   "cell_type": "markdown",
   "id": "aef3355f",
   "metadata": {},
   "source": [
    "### Data preparation is been done"
   ]
  },
  {
   "cell_type": "markdown",
   "id": "c035d27b",
   "metadata": {},
   "source": [
    "### Since there is no genre provided in the dataset we will be ignoring the first question as mentioned by Intellipaat team"
   ]
  },
  {
   "cell_type": "markdown",
   "id": "ac3c14d5",
   "metadata": {},
   "source": [
    "================================================================================================================================"
   ]
  },
  {
   "cell_type": "markdown",
   "id": "e1cde70a",
   "metadata": {},
   "source": [
    "## 2. Create Model that finds the best suited Movie for one user."
   ]
  },
  {
   "cell_type": "markdown",
   "id": "e3d3c9d4",
   "metadata": {},
   "source": [
    "#### Model Building"
   ]
  },
  {
   "cell_type": "code",
   "execution_count": 21,
   "id": "19f7a38f",
   "metadata": {},
   "outputs": [
    {
     "data": {
      "text/html": [
       "<div>\n",
       "<style scoped>\n",
       "    .dataframe tbody tr th:only-of-type {\n",
       "        vertical-align: middle;\n",
       "    }\n",
       "\n",
       "    .dataframe tbody tr th {\n",
       "        vertical-align: top;\n",
       "    }\n",
       "\n",
       "    .dataframe thead th {\n",
       "        text-align: right;\n",
       "    }\n",
       "</style>\n",
       "<table border=\"1\" class=\"dataframe\">\n",
       "  <thead>\n",
       "    <tr style=\"text-align: right;\">\n",
       "      <th></th>\n",
       "      <th>Movie_Id</th>\n",
       "      <th>Year</th>\n",
       "      <th>Name</th>\n",
       "    </tr>\n",
       "  </thead>\n",
       "  <tbody>\n",
       "    <tr>\n",
       "      <th>0</th>\n",
       "      <td>1</td>\n",
       "      <td>2003.0</td>\n",
       "      <td>Dinosaur Planet</td>\n",
       "    </tr>\n",
       "    <tr>\n",
       "      <th>1</th>\n",
       "      <td>2</td>\n",
       "      <td>2004.0</td>\n",
       "      <td>Isle of Man TT 2004 Review</td>\n",
       "    </tr>\n",
       "    <tr>\n",
       "      <th>2</th>\n",
       "      <td>3</td>\n",
       "      <td>1997.0</td>\n",
       "      <td>Character</td>\n",
       "    </tr>\n",
       "    <tr>\n",
       "      <th>3</th>\n",
       "      <td>4</td>\n",
       "      <td>1994.0</td>\n",
       "      <td>Paula Abdul's Get Up &amp; Dance</td>\n",
       "    </tr>\n",
       "    <tr>\n",
       "      <th>4</th>\n",
       "      <td>5</td>\n",
       "      <td>2004.0</td>\n",
       "      <td>The Rise and Fall of ECW</td>\n",
       "    </tr>\n",
       "    <tr>\n",
       "      <th>...</th>\n",
       "      <td>...</td>\n",
       "      <td>...</td>\n",
       "      <td>...</td>\n",
       "    </tr>\n",
       "    <tr>\n",
       "      <th>17765</th>\n",
       "      <td>17766</td>\n",
       "      <td>2002.0</td>\n",
       "      <td>Where the Wild Things Are and Other Maurice Se...</td>\n",
       "    </tr>\n",
       "    <tr>\n",
       "      <th>17766</th>\n",
       "      <td>17767</td>\n",
       "      <td>2004.0</td>\n",
       "      <td>Fidel Castro: American Experience</td>\n",
       "    </tr>\n",
       "    <tr>\n",
       "      <th>17767</th>\n",
       "      <td>17768</td>\n",
       "      <td>2000.0</td>\n",
       "      <td>Epoch</td>\n",
       "    </tr>\n",
       "    <tr>\n",
       "      <th>17768</th>\n",
       "      <td>17769</td>\n",
       "      <td>2003.0</td>\n",
       "      <td>The Company</td>\n",
       "    </tr>\n",
       "    <tr>\n",
       "      <th>17769</th>\n",
       "      <td>17770</td>\n",
       "      <td>2003.0</td>\n",
       "      <td>Alien Hunter</td>\n",
       "    </tr>\n",
       "  </tbody>\n",
       "</table>\n",
       "<p>17770 rows × 3 columns</p>\n",
       "</div>"
      ],
      "text/plain": [
       "       Movie_Id    Year                                               Name\n",
       "0             1  2003.0                                    Dinosaur Planet\n",
       "1             2  2004.0                         Isle of Man TT 2004 Review\n",
       "2             3  1997.0                                          Character\n",
       "3             4  1994.0                       Paula Abdul's Get Up & Dance\n",
       "4             5  2004.0                           The Rise and Fall of ECW\n",
       "...         ...     ...                                                ...\n",
       "17765     17766  2002.0  Where the Wild Things Are and Other Maurice Se...\n",
       "17766     17767  2004.0                  Fidel Castro: American Experience\n",
       "17767     17768  2000.0                                              Epoch\n",
       "17768     17769  2003.0                                        The Company\n",
       "17769     17770  2003.0                                       Alien Hunter\n",
       "\n",
       "[17770 rows x 3 columns]"
      ]
     },
     "execution_count": 21,
     "metadata": {},
     "output_type": "execute_result"
    }
   ],
   "source": [
    "movie_title=pd.read_csv(r\"D:\\INTELLIPAAT\\Capstone Proj\\Netflix\\NETFLIX_YOGANSHU\\Copy of movie_titles.csv\", encoding='ISO-8859-1', header=None, usecols=[0,1,2], names=['Movie_Id','Year','Name'])\n",
    "movie_title"
   ]
  },
  {
   "cell_type": "code",
   "execution_count": 22,
   "id": "3146176c",
   "metadata": {},
   "outputs": [],
   "source": [
    "from surprise import Reader, Dataset, SVD\n",
    "from surprise.model_selection import cross_validate"
   ]
  },
  {
   "cell_type": "code",
   "execution_count": 23,
   "id": "f77bfb35",
   "metadata": {},
   "outputs": [],
   "source": [
    "reader=Reader()"
   ]
  },
  {
   "cell_type": "code",
   "execution_count": 24,
   "id": "b17852e6",
   "metadata": {},
   "outputs": [],
   "source": [
    "# Taking only top 200000 rows for faster completion\n",
    "data = Dataset.load_from_df(movie_df[['Cust_Id','Movie_Id','Rating']][:200000],reader)"
   ]
  },
  {
   "cell_type": "code",
   "execution_count": 25,
   "id": "fced8254",
   "metadata": {},
   "outputs": [],
   "source": [
    "model=SVD()"
   ]
  },
  {
   "cell_type": "code",
   "execution_count": 26,
   "id": "77f78601",
   "metadata": {},
   "outputs": [
    {
     "data": {
      "text/plain": [
       "{'test_rmse': array([0.99465612, 0.99285285, 1.00003665]),\n",
       " 'fit_time': (1.8647010326385498, 1.8385214805603027, 1.7822299003601074),\n",
       " 'test_time': (0.6896965503692627, 0.641202449798584, 0.6568102836608887)}"
      ]
     },
     "execution_count": 26,
     "metadata": {},
     "output_type": "execute_result"
    }
   ],
   "source": [
    "cross_validate(model,data,measures=[\"RMSE\"],cv=3)"
   ]
  },
  {
   "cell_type": "code",
   "execution_count": 27,
   "id": "13b12f51",
   "metadata": {},
   "outputs": [
    {
     "data": {
      "text/html": [
       "<div>\n",
       "<style scoped>\n",
       "    .dataframe tbody tr th:only-of-type {\n",
       "        vertical-align: middle;\n",
       "    }\n",
       "\n",
       "    .dataframe tbody tr th {\n",
       "        vertical-align: top;\n",
       "    }\n",
       "\n",
       "    .dataframe thead th {\n",
       "        text-align: right;\n",
       "    }\n",
       "</style>\n",
       "<table border=\"1\" class=\"dataframe\">\n",
       "  <thead>\n",
       "    <tr style=\"text-align: right;\">\n",
       "      <th></th>\n",
       "      <th>Movie_Id</th>\n",
       "      <th>Year</th>\n",
       "      <th>Name</th>\n",
       "    </tr>\n",
       "  </thead>\n",
       "  <tbody>\n",
       "    <tr>\n",
       "      <th>0</th>\n",
       "      <td>1</td>\n",
       "      <td>2003.0</td>\n",
       "      <td>Dinosaur Planet</td>\n",
       "    </tr>\n",
       "    <tr>\n",
       "      <th>1</th>\n",
       "      <td>2</td>\n",
       "      <td>2004.0</td>\n",
       "      <td>Isle of Man TT 2004 Review</td>\n",
       "    </tr>\n",
       "    <tr>\n",
       "      <th>2</th>\n",
       "      <td>3</td>\n",
       "      <td>1997.0</td>\n",
       "      <td>Character</td>\n",
       "    </tr>\n",
       "    <tr>\n",
       "      <th>3</th>\n",
       "      <td>4</td>\n",
       "      <td>1994.0</td>\n",
       "      <td>Paula Abdul's Get Up &amp; Dance</td>\n",
       "    </tr>\n",
       "    <tr>\n",
       "      <th>4</th>\n",
       "      <td>5</td>\n",
       "      <td>2004.0</td>\n",
       "      <td>The Rise and Fall of ECW</td>\n",
       "    </tr>\n",
       "    <tr>\n",
       "      <th>...</th>\n",
       "      <td>...</td>\n",
       "      <td>...</td>\n",
       "      <td>...</td>\n",
       "    </tr>\n",
       "    <tr>\n",
       "      <th>17765</th>\n",
       "      <td>17766</td>\n",
       "      <td>2002.0</td>\n",
       "      <td>Where the Wild Things Are and Other Maurice Se...</td>\n",
       "    </tr>\n",
       "    <tr>\n",
       "      <th>17766</th>\n",
       "      <td>17767</td>\n",
       "      <td>2004.0</td>\n",
       "      <td>Fidel Castro: American Experience</td>\n",
       "    </tr>\n",
       "    <tr>\n",
       "      <th>17767</th>\n",
       "      <td>17768</td>\n",
       "      <td>2000.0</td>\n",
       "      <td>Epoch</td>\n",
       "    </tr>\n",
       "    <tr>\n",
       "      <th>17768</th>\n",
       "      <td>17769</td>\n",
       "      <td>2003.0</td>\n",
       "      <td>The Company</td>\n",
       "    </tr>\n",
       "    <tr>\n",
       "      <th>17769</th>\n",
       "      <td>17770</td>\n",
       "      <td>2003.0</td>\n",
       "      <td>Alien Hunter</td>\n",
       "    </tr>\n",
       "  </tbody>\n",
       "</table>\n",
       "<p>17770 rows × 3 columns</p>\n",
       "</div>"
      ],
      "text/plain": [
       "       Movie_Id    Year                                               Name\n",
       "0             1  2003.0                                    Dinosaur Planet\n",
       "1             2  2004.0                         Isle of Man TT 2004 Review\n",
       "2             3  1997.0                                          Character\n",
       "3             4  1994.0                       Paula Abdul's Get Up & Dance\n",
       "4             5  2004.0                           The Rise and Fall of ECW\n",
       "...         ...     ...                                                ...\n",
       "17765     17766  2002.0  Where the Wild Things Are and Other Maurice Se...\n",
       "17766     17767  2004.0                  Fidel Castro: American Experience\n",
       "17767     17768  2000.0                                              Epoch\n",
       "17768     17769  2003.0                                        The Company\n",
       "17769     17770  2003.0                                       Alien Hunter\n",
       "\n",
       "[17770 rows x 3 columns]"
      ]
     },
     "execution_count": 27,
     "metadata": {},
     "output_type": "execute_result"
    }
   ],
   "source": [
    "# Recommendation for single user\n",
    "user_1331154=movie_title.copy() # making a copy of data set for this indivisual user\n",
    "user_1331154"
   ]
  },
  {
   "cell_type": "code",
   "execution_count": 28,
   "id": "cd84dde1",
   "metadata": {},
   "outputs": [
    {
     "data": {
      "text/html": [
       "<div>\n",
       "<style scoped>\n",
       "    .dataframe tbody tr th:only-of-type {\n",
       "        vertical-align: middle;\n",
       "    }\n",
       "\n",
       "    .dataframe tbody tr th {\n",
       "        vertical-align: top;\n",
       "    }\n",
       "\n",
       "    .dataframe thead th {\n",
       "        text-align: right;\n",
       "    }\n",
       "</style>\n",
       "<table border=\"1\" class=\"dataframe\">\n",
       "  <thead>\n",
       "    <tr style=\"text-align: right;\">\n",
       "      <th></th>\n",
       "      <th>Movie_Id</th>\n",
       "      <th>Year</th>\n",
       "      <th>Name</th>\n",
       "    </tr>\n",
       "  </thead>\n",
       "  <tbody>\n",
       "    <tr>\n",
       "      <th>2</th>\n",
       "      <td>3</td>\n",
       "      <td>1997.0</td>\n",
       "      <td>Character</td>\n",
       "    </tr>\n",
       "    <tr>\n",
       "      <th>4</th>\n",
       "      <td>5</td>\n",
       "      <td>2004.0</td>\n",
       "      <td>The Rise and Fall of ECW</td>\n",
       "    </tr>\n",
       "    <tr>\n",
       "      <th>5</th>\n",
       "      <td>6</td>\n",
       "      <td>1997.0</td>\n",
       "      <td>Sick</td>\n",
       "    </tr>\n",
       "    <tr>\n",
       "      <th>7</th>\n",
       "      <td>8</td>\n",
       "      <td>2004.0</td>\n",
       "      <td>What the #$*! Do We Know!?</td>\n",
       "    </tr>\n",
       "    <tr>\n",
       "      <th>15</th>\n",
       "      <td>16</td>\n",
       "      <td>1996.0</td>\n",
       "      <td>Screamers</td>\n",
       "    </tr>\n",
       "    <tr>\n",
       "      <th>...</th>\n",
       "      <td>...</td>\n",
       "      <td>...</td>\n",
       "      <td>...</td>\n",
       "    </tr>\n",
       "    <tr>\n",
       "      <th>17765</th>\n",
       "      <td>17766</td>\n",
       "      <td>2002.0</td>\n",
       "      <td>Where the Wild Things Are and Other Maurice Se...</td>\n",
       "    </tr>\n",
       "    <tr>\n",
       "      <th>17766</th>\n",
       "      <td>17767</td>\n",
       "      <td>2004.0</td>\n",
       "      <td>Fidel Castro: American Experience</td>\n",
       "    </tr>\n",
       "    <tr>\n",
       "      <th>17767</th>\n",
       "      <td>17768</td>\n",
       "      <td>2000.0</td>\n",
       "      <td>Epoch</td>\n",
       "    </tr>\n",
       "    <tr>\n",
       "      <th>17768</th>\n",
       "      <td>17769</td>\n",
       "      <td>2003.0</td>\n",
       "      <td>The Company</td>\n",
       "    </tr>\n",
       "    <tr>\n",
       "      <th>17769</th>\n",
       "      <td>17770</td>\n",
       "      <td>2003.0</td>\n",
       "      <td>Alien Hunter</td>\n",
       "    </tr>\n",
       "  </tbody>\n",
       "</table>\n",
       "<p>15071 rows × 3 columns</p>\n",
       "</div>"
      ],
      "text/plain": [
       "       Movie_Id    Year                                               Name\n",
       "2             3  1997.0                                          Character\n",
       "4             5  2004.0                           The Rise and Fall of ECW\n",
       "5             6  1997.0                                               Sick\n",
       "7             8  2004.0                         What the #$*! Do We Know!?\n",
       "15           16  1996.0                                          Screamers\n",
       "...         ...     ...                                                ...\n",
       "17765     17766  2002.0  Where the Wild Things Are and Other Maurice Se...\n",
       "17766     17767  2004.0                  Fidel Castro: American Experience\n",
       "17767     17768  2000.0                                              Epoch\n",
       "17768     17769  2003.0                                        The Company\n",
       "17769     17770  2003.0                                       Alien Hunter\n",
       "\n",
       "[15071 rows x 3 columns]"
      ]
     },
     "execution_count": 28,
     "metadata": {},
     "output_type": "execute_result"
    }
   ],
   "source": [
    "#It was having all the movies including those with less than 908 reviews which had to be drop\n",
    "user_1331154 = user_1331154[~user_1331154[\"Movie_Id\"].isin(drop_movie_list)]\n",
    "user_1331154"
   ]
  },
  {
   "cell_type": "code",
   "execution_count": 29,
   "id": "0335c2b3",
   "metadata": {},
   "outputs": [
    {
     "data": {
      "text/html": [
       "<div>\n",
       "<style scoped>\n",
       "    .dataframe tbody tr th:only-of-type {\n",
       "        vertical-align: middle;\n",
       "    }\n",
       "\n",
       "    .dataframe tbody tr th {\n",
       "        vertical-align: top;\n",
       "    }\n",
       "\n",
       "    .dataframe thead th {\n",
       "        text-align: right;\n",
       "    }\n",
       "</style>\n",
       "<table border=\"1\" class=\"dataframe\">\n",
       "  <thead>\n",
       "    <tr style=\"text-align: right;\">\n",
       "      <th></th>\n",
       "      <th>Movie_Id</th>\n",
       "      <th>Year</th>\n",
       "      <th>Name</th>\n",
       "      <th>Estimate_score</th>\n",
       "    </tr>\n",
       "  </thead>\n",
       "  <tbody>\n",
       "    <tr>\n",
       "      <th>2</th>\n",
       "      <td>3</td>\n",
       "      <td>1997.0</td>\n",
       "      <td>Character</td>\n",
       "      <td>3.966137</td>\n",
       "    </tr>\n",
       "    <tr>\n",
       "      <th>4</th>\n",
       "      <td>5</td>\n",
       "      <td>2004.0</td>\n",
       "      <td>The Rise and Fall of ECW</td>\n",
       "      <td>4.010337</td>\n",
       "    </tr>\n",
       "    <tr>\n",
       "      <th>5</th>\n",
       "      <td>6</td>\n",
       "      <td>1997.0</td>\n",
       "      <td>Sick</td>\n",
       "      <td>3.286390</td>\n",
       "    </tr>\n",
       "    <tr>\n",
       "      <th>7</th>\n",
       "      <td>8</td>\n",
       "      <td>2004.0</td>\n",
       "      <td>What the #$*! Do We Know!?</td>\n",
       "      <td>3.479830</td>\n",
       "    </tr>\n",
       "    <tr>\n",
       "      <th>15</th>\n",
       "      <td>16</td>\n",
       "      <td>1996.0</td>\n",
       "      <td>Screamers</td>\n",
       "      <td>3.529596</td>\n",
       "    </tr>\n",
       "    <tr>\n",
       "      <th>...</th>\n",
       "      <td>...</td>\n",
       "      <td>...</td>\n",
       "      <td>...</td>\n",
       "      <td>...</td>\n",
       "    </tr>\n",
       "    <tr>\n",
       "      <th>17765</th>\n",
       "      <td>17766</td>\n",
       "      <td>2002.0</td>\n",
       "      <td>Where the Wild Things Are and Other Maurice Se...</td>\n",
       "      <td>3.661534</td>\n",
       "    </tr>\n",
       "    <tr>\n",
       "      <th>17766</th>\n",
       "      <td>17767</td>\n",
       "      <td>2004.0</td>\n",
       "      <td>Fidel Castro: American Experience</td>\n",
       "      <td>3.661534</td>\n",
       "    </tr>\n",
       "    <tr>\n",
       "      <th>17767</th>\n",
       "      <td>17768</td>\n",
       "      <td>2000.0</td>\n",
       "      <td>Epoch</td>\n",
       "      <td>3.661534</td>\n",
       "    </tr>\n",
       "    <tr>\n",
       "      <th>17768</th>\n",
       "      <td>17769</td>\n",
       "      <td>2003.0</td>\n",
       "      <td>The Company</td>\n",
       "      <td>3.661534</td>\n",
       "    </tr>\n",
       "    <tr>\n",
       "      <th>17769</th>\n",
       "      <td>17770</td>\n",
       "      <td>2003.0</td>\n",
       "      <td>Alien Hunter</td>\n",
       "      <td>3.661534</td>\n",
       "    </tr>\n",
       "  </tbody>\n",
       "</table>\n",
       "<p>15071 rows × 4 columns</p>\n",
       "</div>"
      ],
      "text/plain": [
       "       Movie_Id    Year                                               Name  \\\n",
       "2             3  1997.0                                          Character   \n",
       "4             5  2004.0                           The Rise and Fall of ECW   \n",
       "5             6  1997.0                                               Sick   \n",
       "7             8  2004.0                         What the #$*! Do We Know!?   \n",
       "15           16  1996.0                                          Screamers   \n",
       "...         ...     ...                                                ...   \n",
       "17765     17766  2002.0  Where the Wild Things Are and Other Maurice Se...   \n",
       "17766     17767  2004.0                  Fidel Castro: American Experience   \n",
       "17767     17768  2000.0                                              Epoch   \n",
       "17768     17769  2003.0                                        The Company   \n",
       "17769     17770  2003.0                                       Alien Hunter   \n",
       "\n",
       "       Estimate_score  \n",
       "2            3.966137  \n",
       "4            4.010337  \n",
       "5            3.286390  \n",
       "7            3.479830  \n",
       "15           3.529596  \n",
       "...               ...  \n",
       "17765        3.661534  \n",
       "17766        3.661534  \n",
       "17767        3.661534  \n",
       "17768        3.661534  \n",
       "17769        3.661534  \n",
       "\n",
       "[15071 rows x 4 columns]"
      ]
     },
     "execution_count": 29,
     "metadata": {},
     "output_type": "execute_result"
    }
   ],
   "source": [
    "#Creating a estimation score for each movie for the user 1331154 using SVD model predict function\n",
    "\n",
    "user_1331154[\"Estimate_score\"]=user_1331154[\"Movie_Id\"].apply(lambda x:model.predict(1331154,x).est)\n",
    "user_1331154"
   ]
  },
  {
   "cell_type": "code",
   "execution_count": 30,
   "id": "f39b8a2f",
   "metadata": {},
   "outputs": [
    {
     "data": {
      "text/html": [
       "<div>\n",
       "<style scoped>\n",
       "    .dataframe tbody tr th:only-of-type {\n",
       "        vertical-align: middle;\n",
       "    }\n",
       "\n",
       "    .dataframe tbody tr th {\n",
       "        vertical-align: top;\n",
       "    }\n",
       "\n",
       "    .dataframe thead th {\n",
       "        text-align: right;\n",
       "    }\n",
       "</style>\n",
       "<table border=\"1\" class=\"dataframe\">\n",
       "  <thead>\n",
       "    <tr style=\"text-align: right;\">\n",
       "      <th></th>\n",
       "      <th>Movie_Id</th>\n",
       "      <th>Year</th>\n",
       "      <th>Name</th>\n",
       "      <th>Estimate_score</th>\n",
       "    </tr>\n",
       "  </thead>\n",
       "  <tbody>\n",
       "    <tr>\n",
       "      <th>32</th>\n",
       "      <td>33</td>\n",
       "      <td>2000.0</td>\n",
       "      <td>Aqua Teen Hunger Force: Vol. 1</td>\n",
       "      <td>4.398104</td>\n",
       "    </tr>\n",
       "    <tr>\n",
       "      <th>31</th>\n",
       "      <td>32</td>\n",
       "      <td>2004.0</td>\n",
       "      <td>ABC Primetime: Mel Gibson's The Passion of the...</td>\n",
       "      <td>4.234440</td>\n",
       "    </tr>\n",
       "    <tr>\n",
       "      <th>24</th>\n",
       "      <td>25</td>\n",
       "      <td>1997.0</td>\n",
       "      <td>Inspector Morse 31: Death Is Now My Neighbour</td>\n",
       "      <td>4.125763</td>\n",
       "    </tr>\n",
       "    <tr>\n",
       "      <th>27</th>\n",
       "      <td>28</td>\n",
       "      <td>2002.0</td>\n",
       "      <td>Lilo and Stitch</td>\n",
       "      <td>4.025738</td>\n",
       "    </tr>\n",
       "    <tr>\n",
       "      <th>4</th>\n",
       "      <td>5</td>\n",
       "      <td>2004.0</td>\n",
       "      <td>The Rise and Fall of ECW</td>\n",
       "      <td>4.010337</td>\n",
       "    </tr>\n",
       "  </tbody>\n",
       "</table>\n",
       "</div>"
      ],
      "text/plain": [
       "    Movie_Id    Year                                               Name  \\\n",
       "32        33  2000.0                     Aqua Teen Hunger Force: Vol. 1   \n",
       "31        32  2004.0  ABC Primetime: Mel Gibson's The Passion of the...   \n",
       "24        25  1997.0      Inspector Morse 31: Death Is Now My Neighbour   \n",
       "27        28  2002.0                                    Lilo and Stitch   \n",
       "4          5  2004.0                           The Rise and Fall of ECW   \n",
       "\n",
       "    Estimate_score  \n",
       "32        4.398104  \n",
       "31        4.234440  \n",
       "24        4.125763  \n",
       "27        4.025738  \n",
       "4         4.010337  "
      ]
     },
     "execution_count": 30,
     "metadata": {},
     "output_type": "execute_result"
    }
   ],
   "source": [
    "#The top 5 movies that should be recomended to the user 1331154 is\n",
    "user_1331154.sort_values(\"Estimate_score\",ascending=False).head()"
   ]
  },
  {
   "cell_type": "markdown",
   "id": "e011f5b7",
   "metadata": {},
   "source": [
    "=============================================================================================================================="
   ]
  },
  {
   "cell_type": "markdown",
   "id": "1ca3bde8",
   "metadata": {},
   "source": [
    "## 3. Find what Genre Movies have received the best and worst ratings based on User Rating."
   ]
  },
  {
   "cell_type": "code",
   "execution_count": 31,
   "id": "95a2e927",
   "metadata": {},
   "outputs": [],
   "source": [
    "#Merging the dataset to extract user rating and movie name\n",
    "movie_merge = pd.merge(movie_df,movie_title,on='Movie_Id')\n"
   ]
  },
  {
   "cell_type": "code",
   "execution_count": 32,
   "id": "aa055f29",
   "metadata": {},
   "outputs": [
    {
     "data": {
      "text/plain": [
       "Name\n",
       "Lost: Season 1                           4.667269\n",
       "The Simpsons: Season 6                   4.588016\n",
       "Family Guy: Freakin' Sweet Collection    4.520370\n",
       "Inu-Yasha                                4.495253\n",
       "Six Feet Under: Season 4                 4.466834\n",
       "                                           ...   \n",
       "Gerry                                    2.192842\n",
       "Spice World                              2.122587\n",
       "Druids                                   2.012658\n",
       "House of the Dead                        1.962401\n",
       "Shanghai Surprise                        1.755993\n",
       "Name: Rating, Length: 1787, dtype: float64"
      ]
     },
     "execution_count": 32,
     "metadata": {},
     "output_type": "execute_result"
    }
   ],
   "source": [
    "#Average rating for each movie\n",
    "movie_avg_rating = movie_merge.groupby('Name')['Rating'].agg('mean')\n",
    "\n",
    "#Sorting based on Avg Rating column\n",
    "movie_avg_rating = movie_avg_rating.sort_values(ascending=False)\n",
    "movie_avg_rating"
   ]
  },
  {
   "cell_type": "code",
   "execution_count": 33,
   "id": "f12c2899",
   "metadata": {},
   "outputs": [
    {
     "name": "stdout",
     "output_type": "stream",
     "text": [
      "Best 10 movies based on user ratings are \n",
      "                                                  Rating\n",
      "Name                                                   \n",
      "Lost: Season 1                                 4.667269\n",
      "The Simpsons: Season 6                         4.588016\n",
      "Family Guy: Freakin' Sweet Collection          4.520370\n",
      "Inu-Yasha                                      4.495253\n",
      "Six Feet Under: Season 4                       4.466834\n",
      "Stargate SG-1: Season 8                        4.463280\n",
      "The West Wing: Season 3                        4.456323\n",
      "Gilmore Girls: Season 3                        4.438146\n",
      "The Best of Friends: Vol. 4                    4.436311\n",
      "Lord of the Rings: The Fellowship of the Ring  4.433863\n"
     ]
    }
   ],
   "source": [
    "#To get the top 10 movies with highest average rating\n",
    "top_10_movies = movie_avg_rating.head(10)\n",
    "top_10_movies = pd.DataFrame(top_10_movies,columns=['Rating'])\n",
    "print('Best 10 movies based on user ratings are \\n',top_10_movies)"
   ]
  },
  {
   "cell_type": "code",
   "execution_count": 34,
   "id": "02dccb6b",
   "metadata": {},
   "outputs": [
    {
     "name": "stdout",
     "output_type": "stream",
     "text": [
      "Worst 10 movies based on user ratings are \n",
      "                                                Rating\n",
      "Name                                                 \n",
      "Shanghai Surprise                            1.755993\n",
      "House of the Dead                            1.962401\n",
      "Druids                                       2.012658\n",
      "Spice World                                  2.122587\n",
      "Gerry                                        2.192842\n",
      "Last Days                                    2.224939\n",
      "Ernest Goes to Jail                          2.229789\n",
      "Freddy Got Fingered                          2.230461\n",
      "Dr. T & the Women                            2.254707\n",
      "Starship Troopers 2: Hero of the Federation  2.280229\n"
     ]
    }
   ],
   "source": [
    "worst_10_movies = movie_avg_rating.tail(10)\n",
    "worst_10_movies = pd.DataFrame(worst_10_movies,columns=['Rating'])\n",
    "print('Worst 10 movies based on user ratings are \\n',worst_10_movies.sort_values(by='Rating'))"
   ]
  },
  {
   "cell_type": "markdown",
   "id": "d881e4e8",
   "metadata": {},
   "source": [
    "### Visualizing top 10 and worst 10 movies using rating bar plot"
   ]
  },
  {
   "cell_type": "code",
   "execution_count": 37,
   "id": "4ebac280",
   "metadata": {},
   "outputs": [
    {
     "data": {
      "text/plain": [
       "[]"
      ]
     },
     "execution_count": 37,
     "metadata": {},
     "output_type": "execute_result"
    },
    {
     "data": {
      "image/png": "[encoded data removed]",
      "text/plain": [
       "<Figure size 640x480 with 1 Axes>"
      ]
     },
     "metadata": {},
     "output_type": "display_data"
    }
   ],
   "source": [
    "sns.barplot(x=top_10_movies['Rating'],y=top_10_movies.index)\n",
    "plt.title('Top 10 Movie Name vs Rating')\n",
    "plt.plot()"
   ]
  },
  {
   "cell_type": "code",
   "execution_count": 38,
   "id": "149be874",
   "metadata": {},
   "outputs": [
    {
     "data": {
      "text/plain": [
       "[]"
      ]
     },
     "execution_count": 38,
     "metadata": {},
     "output_type": "execute_result"
    },
    {
     "data": {
      "image/png": "[encoded data removed]",
      "text/plain": [
       "<Figure size 640x480 with 1 Axes>"
      ]
     },
     "metadata": {},
     "output_type": "display_data"
    }
   ],
   "source": [
    "sns.barplot(x=worst_10_movies['Rating'],y=worst_10_movies.index)\n",
    "plt.title('Worst 10 Movie Name vs Rating')\n",
    "plt.plot()"
   ]
  },
  {
   "cell_type": "code",
   "execution_count": null,
   "id": "e03a7738",
   "metadata": {},
   "outputs": [],
   "source": []
  }
 ],
 "metadata": {
  "kernelspec": {
   "display_name": "Python 3 (ipykernel)",
   "language": "python",
   "name": "python3"
  },
  "language_info": {
   "codemirror_mode": {
    "name": "ipython",
    "version": 3
   },
   "file_extension": ".py",
   "mimetype": "text/x-python",
   "name": "python",
   "nbconvert_exporter": "python",
   "pygments_lexer": "ipython3",
   "version": "3.11.5"
  }
 },
 "nbformat": 4,
 "nbformat_minor": 5
}
